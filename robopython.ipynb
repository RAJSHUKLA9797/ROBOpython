{
  "nbformat": 4,
  "nbformat_minor": 0,
  "metadata": {
    "colab": {
      "name": "Untitled1.ipynb",
      "provenance": [],
      "collapsed_sections": [],
      "authorship_tag": "ABX9TyMXYgqFDg7Lb3pWKc+MMCm9",
      "include_colab_link": true
    },
    "kernelspec": {
      "name": "python3",
      "display_name": "Python 3"
    },
    "language_info": {
      "name": "python"
    }
  },
  "cells": [
    {
      "cell_type": "markdown",
      "metadata": {
        "id": "view-in-github",
        "colab_type": "text"
      },
      "source": [
        "<a href=\"https://colab.research.google.com/github/RAJSHUKLA9797/ROBOpython/blob/main/robopython.ipynb\" target=\"_parent\"><img src=\"https://colab.research.google.com/assets/colab-badge.svg\" alt=\"Open In Colab\"/></a>"
      ]
    },
    {
      "cell_type": "markdown",
      "source": [
        "# **Ques1**"
      ],
      "metadata": {
        "id": "uqF0ep_qBb_n"
      }
    },
    {
      "cell_type": "code",
      "execution_count": null,
      "metadata": {
        "id": "5DBXhVgD0As3"
      },
      "outputs": [],
      "source": [
        "def fun(list1,string1):\n",
        "  if(string1 == \"asc\"):\n",
        "    return list1.sort()\n",
        "  elif(string1 == \"desc\"):\n",
        "    return list1.sort(reverse = True)  \n"
      ]
    },
    {
      "cell_type": "code",
      "source": [
        "listt=[1, 2, 3,5,3,2,33,23,12,45]"
      ],
      "metadata": {
        "id": "CTfIF4fb1bzp"
      },
      "execution_count": null,
      "outputs": []
    },
    {
      "cell_type": "code",
      "source": [
        "fun(listt, 'desc')"
      ],
      "metadata": {
        "id": "DqTS9Ao-2r04"
      },
      "execution_count": null,
      "outputs": []
    },
    {
      "cell_type": "code",
      "source": [
        "listt"
      ],
      "metadata": {
        "colab": {
          "base_uri": "https://localhost:8080/"
        },
        "id": "BSzaIj0S4qVK",
        "outputId": "e26f0c13-4f84-43e5-8596-2db43809ed1c"
      },
      "execution_count": null,
      "outputs": [
        {
          "output_type": "execute_result",
          "data": {
            "text/plain": [
              "[45, 33, 23, 12, 5, 3, 3, 2, 2, 1]"
            ]
          },
          "metadata": {},
          "execution_count": 41
        }
      ]
    },
    {
      "cell_type": "markdown",
      "source": [
        "# **Ques2**"
      ],
      "metadata": {
        "id": "BuJpX5TPBhgS"
      }
    },
    {
      "cell_type": "code",
      "source": [
        "def cred(s1):\n",
        "  a = \"*\"*12\n",
        "  b = s1[-4]\n",
        "  c = s1[-3]\n",
        "  d = s1[-2]\n",
        "  e = s1[-1]\n",
        "  return(a+b+c+d+e)\n",
        "\n"
      ],
      "metadata": {
        "id": "KB7AV6DADhy5"
      },
      "execution_count": null,
      "outputs": []
    },
    {
      "cell_type": "code",
      "source": [
        "string1 = \"1234567809876543\"\n",
        "cred(string1)"
      ],
      "metadata": {
        "colab": {
          "base_uri": "https://localhost:8080/",
          "height": 36
        },
        "id": "C8okGoY-Fqn_",
        "outputId": "04b4a1d6-7926-46af-a47e-0b693851e6dc"
      },
      "execution_count": null,
      "outputs": [
        {
          "output_type": "execute_result",
          "data": {
            "text/plain": [
              "'************6543'"
            ],
            "application/vnd.google.colaboratory.intrinsic+json": {
              "type": "string"
            }
          },
          "metadata": {},
          "execution_count": 73
        }
      ]
    },
    {
      "cell_type": "markdown",
      "source": [
        "# **Ques3**"
      ],
      "metadata": {
        "id": "lNRHeHVQJOHY"
      }
    },
    {
      "cell_type": "code",
      "source": [
        "def cal(int1,oper,int2):\n",
        "  if(oper == \"+\"):\n",
        "    return(int1 + int2)\n",
        "  elif(oper == \"-\"):\n",
        "    return(int1 - int2)\n",
        "  elif(oper == \"/\"):\n",
        "    return(int1/int2)  \n",
        "  elif(oper == \"*\"):\n",
        "    return(int1 * int2)\n",
        "\n"
      ],
      "metadata": {
        "id": "kpikGHOVJiZJ"
      },
      "execution_count": null,
      "outputs": []
    },
    {
      "cell_type": "code",
      "source": [
        "cal(2,\"+\",3)+cal(9,\"/\",3)\n"
      ],
      "metadata": {
        "colab": {
          "base_uri": "https://localhost:8080/"
        },
        "id": "0ufeAI3eLG_F",
        "outputId": "170589a6-96c8-40f9-e53d-9feb5c308925"
      },
      "execution_count": null,
      "outputs": [
        {
          "output_type": "execute_result",
          "data": {
            "text/plain": [
              "8.0"
            ]
          },
          "metadata": {},
          "execution_count": 79
        }
      ]
    },
    {
      "cell_type": "markdown",
      "source": [
        "# **Ques4**"
      ],
      "metadata": {
        "id": "QoYaUZHNMeMB"
      }
    },
    {
      "cell_type": "code",
      "source": [
        "def twice(str):\n",
        "  k=[]\n",
        "  for i in range(len(str)):\n",
        "    k.append(2*str[i])\n",
        "  result=\"\".join(k)\n",
        "  return result  "
      ],
      "metadata": {
        "id": "JMq79z0nMiKF"
      },
      "execution_count": null,
      "outputs": []
    },
    {
      "cell_type": "code",
      "source": [
        "twice(\"car\")"
      ],
      "metadata": {
        "colab": {
          "base_uri": "https://localhost:8080/",
          "height": 36
        },
        "id": "XKYDs8MrOOyU",
        "outputId": "2e8416ea-2484-4ee1-9d74-d022d32e59dd"
      },
      "execution_count": null,
      "outputs": [
        {
          "output_type": "execute_result",
          "data": {
            "text/plain": [
              "'ccaarr'"
            ],
            "application/vnd.google.colaboratory.intrinsic+json": {
              "type": "string"
            }
          },
          "metadata": {},
          "execution_count": 98
        }
      ]
    },
    {
      "cell_type": "markdown",
      "source": [
        "# **Ques5**"
      ],
      "metadata": {
        "id": "FCbLwNm6Q4m2"
      }
    },
    {
      "cell_type": "code",
      "source": [
        "arr = []\n",
        "for i in range(99):\n",
        "  arr.append(i+1)\n",
        "arr.append(49)\n"
      ],
      "metadata": {
        "id": "TUp0M2q2RASU"
      },
      "execution_count": null,
      "outputs": []
    },
    {
      "cell_type": "code",
      "source": [
        "arr"
      ],
      "metadata": {
        "colab": {
          "base_uri": "https://localhost:8080/"
        },
        "id": "RUS8SboNeGs9",
        "outputId": "495a7b37-2bf1-4a9f-b187-52d6c2d1f061"
      },
      "execution_count": null,
      "outputs": [
        {
          "output_type": "execute_result",
          "data": {
            "text/plain": [
              "[1,\n",
              " 2,\n",
              " 3,\n",
              " 4,\n",
              " 5,\n",
              " 6,\n",
              " 7,\n",
              " 8,\n",
              " 9,\n",
              " 10,\n",
              " 11,\n",
              " 12,\n",
              " 13,\n",
              " 14,\n",
              " 15,\n",
              " 16,\n",
              " 17,\n",
              " 18,\n",
              " 19,\n",
              " 20,\n",
              " 21,\n",
              " 22,\n",
              " 23,\n",
              " 24,\n",
              " 25,\n",
              " 26,\n",
              " 27,\n",
              " 28,\n",
              " 29,\n",
              " 30,\n",
              " 31,\n",
              " 32,\n",
              " 33,\n",
              " 34,\n",
              " 35,\n",
              " 36,\n",
              " 37,\n",
              " 38,\n",
              " 39,\n",
              " 40,\n",
              " 41,\n",
              " 42,\n",
              " 43,\n",
              " 44,\n",
              " 45,\n",
              " 46,\n",
              " 47,\n",
              " 48,\n",
              " 49,\n",
              " 50,\n",
              " 51,\n",
              " 52,\n",
              " 53,\n",
              " 54,\n",
              " 55,\n",
              " 56,\n",
              " 57,\n",
              " 58,\n",
              " 59,\n",
              " 60,\n",
              " 61,\n",
              " 62,\n",
              " 63,\n",
              " 64,\n",
              " 65,\n",
              " 66,\n",
              " 67,\n",
              " 68,\n",
              " 69,\n",
              " 70,\n",
              " 71,\n",
              " 72,\n",
              " 73,\n",
              " 74,\n",
              " 75,\n",
              " 76,\n",
              " 77,\n",
              " 78,\n",
              " 79,\n",
              " 80,\n",
              " 81,\n",
              " 82,\n",
              " 83,\n",
              " 84,\n",
              " 85,\n",
              " 86,\n",
              " 87,\n",
              " 88,\n",
              " 89,\n",
              " 90,\n",
              " 91,\n",
              " 92,\n",
              " 93,\n",
              " 94,\n",
              " 95,\n",
              " 96,\n",
              " 97,\n",
              " 98,\n",
              " 99,\n",
              " 49]"
            ]
          },
          "metadata": {},
          "execution_count": 125
        }
      ]
    },
    {
      "cell_type": "markdown",
      "source": [
        "above is test case for ques5\n"
      ],
      "metadata": {
        "id": "y--1NB0QaQwi"
      }
    },
    {
      "cell_type": "code",
      "source": [
        "def checker(array1):\n",
        "  array1.sort()\n",
        "  for i in range(len(array1)-1):\n",
        "    if(array1[i]==array1[i+1]):\n",
        "      return array1[i]\n",
        "    "
      ],
      "metadata": {
        "id": "05xLGmS5aZmc"
      },
      "execution_count": null,
      "outputs": []
    },
    {
      "cell_type": "code",
      "source": [
        "print(checker(arr))"
      ],
      "metadata": {
        "colab": {
          "base_uri": "https://localhost:8080/"
        },
        "id": "ON6mSRI7c2Sj",
        "outputId": "9afee38b-8392-4bff-a176-557cdad71784"
      },
      "execution_count": null,
      "outputs": [
        {
          "output_type": "stream",
          "name": "stdout",
          "text": [
            "49\n"
          ]
        }
      ]
    },
    {
      "cell_type": "markdown",
      "source": [
        "# **Ques6**"
      ],
      "metadata": {
        "id": "zfYMktLCe0hF"
      }
    },
    {
      "cell_type": "code",
      "source": [
        "def prime_check(num):\n",
        "  for i in range(2,num-1):\n",
        "    if(num%i==0):\n",
        "      return 1\n",
        "    else:\n",
        "       return 0\n"
      ],
      "metadata": {
        "id": "ljJneFJGe5SV"
      },
      "execution_count": null,
      "outputs": []
    },
    {
      "cell_type": "code",
      "source": [
        "prime_check(10)\n",
        "            "
      ],
      "metadata": {
        "colab": {
          "base_uri": "https://localhost:8080/"
        },
        "id": "YhE2R94iytN3",
        "outputId": "4fa0e5b0-3012-411a-e28e-72317569d4e6"
      },
      "execution_count": null,
      "outputs": [
        {
          "output_type": "execute_result",
          "data": {
            "text/plain": [
              "1"
            ]
          },
          "metadata": {},
          "execution_count": 32
        }
      ]
    },
    {
      "cell_type": "code",
      "source": [
        "def ran(a,b):\n",
        "  for i in range(a,b):\n",
        "    if(prime_check(i)==0):\n",
        "     print(i)\n"
      ],
      "metadata": {
        "id": "TNjTVdgw04Kv"
      },
      "execution_count": null,
      "outputs": []
    },
    {
      "cell_type": "code",
      "source": [
        "ran(3,15)"
      ],
      "metadata": {
        "colab": {
          "base_uri": "https://localhost:8080/"
        },
        "id": "t3UFqlQq1jUW",
        "outputId": "81092313-5f8d-4333-8b4d-1168361bef8f"
      },
      "execution_count": null,
      "outputs": [
        {
          "output_type": "stream",
          "name": "stdout",
          "text": [
            "5\n",
            "7\n",
            "9\n",
            "11\n",
            "13\n"
          ]
        }
      ]
    },
    {
      "cell_type": "markdown",
      "source": [
        "# **Ques7**"
      ],
      "metadata": {
        "id": "hzDzpER63to1"
      }
    },
    {
      "cell_type": "code",
      "source": [
        "def freq_check(num,arr):\n",
        "  count = 0\n",
        "  for i in range(len(arr)):\n",
        "    if(num==arr[i]):\n",
        "      count=count+1\n",
        "  return count\n",
        "\n"
      ],
      "metadata": {
        "id": "vQkIRk_630uq"
      },
      "execution_count": 27,
      "outputs": []
    },
    {
      "cell_type": "code",
      "source": [
        "arry=[0,2,2,2,3,4,1,5,7,9,9,9,7,8,9,8,8,8,10,11,13,10]"
      ],
      "metadata": {
        "id": "DPkMjr137ZS3"
      },
      "execution_count": 29,
      "outputs": []
    },
    {
      "cell_type": "code",
      "source": [
        "Matrix = [[0 for x in range(max(arry)+1)] for y in range(2)] "
      ],
      "metadata": {
        "id": "sONv73037hR8"
      },
      "execution_count": 30,
      "outputs": []
    },
    {
      "cell_type": "code",
      "source": [
        "for i in range(2):\n",
        "  if(i==0):\n",
        "    for j in range(max(arry)+1):\n",
        "      Matrix[i][j]=j\n",
        "  if(i==1):\n",
        "    for j in range(max(arry)+1):\n",
        "      Matrix[i][j]=freq_check(j, arry)\n",
        "\n"
      ],
      "metadata": {
        "id": "RlMhc57i_nVq"
      },
      "execution_count": 31,
      "outputs": []
    },
    {
      "cell_type": "code",
      "source": [
        "Matrix"
      ],
      "metadata": {
        "colab": {
          "base_uri": "https://localhost:8080/"
        },
        "id": "4LxbvH07AqAQ",
        "outputId": "2c7dd6b9-93fe-41dd-bdec-d8e7e563e40b"
      },
      "execution_count": 32,
      "outputs": [
        {
          "output_type": "execute_result",
          "data": {
            "text/plain": [
              "[[0, 1, 2, 3, 4, 5, 6, 7, 8, 9, 10, 11, 12, 13],\n",
              " [1, 1, 3, 1, 1, 1, 0, 2, 4, 4, 2, 1, 0, 1]]"
            ]
          },
          "metadata": {},
          "execution_count": 32
        }
      ]
    },
    {
      "cell_type": "code",
      "source": [
        "Matrix[1].index(max(Matrix[1]))"
      ],
      "metadata": {
        "colab": {
          "base_uri": "https://localhost:8080/"
        },
        "id": "BtWajtvbAtjB",
        "outputId": "8069a052-7ce6-4e7d-f41e-75aeab0b75c8"
      },
      "execution_count": 33,
      "outputs": [
        {
          "output_type": "execute_result",
          "data": {
            "text/plain": [
              "8"
            ]
          },
          "metadata": {},
          "execution_count": 33
        }
      ]
    },
    {
      "cell_type": "markdown",
      "source": [
        "# **Ques8**"
      ],
      "metadata": {
        "id": "3IzDmdFXDv2f"
      }
    },
    {
      "cell_type": "code",
      "source": [
        "def sum(str):\n",
        "  sum = 0\n",
        "  for i  in str:\n",
        "    if (i.isnumeric()==True):\n",
        "      sum = sum+ int(i)\n",
        "  return sum    \n",
        "\n",
        "  \n"
      ],
      "metadata": {
        "id": "at17t_tIDz9D"
      },
      "execution_count": 43,
      "outputs": []
    },
    {
      "cell_type": "code",
      "source": [
        "sum(\"h20 15 wa73r\")"
      ],
      "metadata": {
        "colab": {
          "base_uri": "https://localhost:8080/"
        },
        "id": "P-WlV4rEHEfM",
        "outputId": "2bb01d8e-cd69-46d1-c407-d17831b812c3"
      },
      "execution_count": 45,
      "outputs": [
        {
          "output_type": "execute_result",
          "data": {
            "text/plain": [
              "18"
            ]
          },
          "metadata": {},
          "execution_count": 45
        }
      ]
    },
    {
      "cell_type": "markdown",
      "source": [
        "# **Ques 9**"
      ],
      "metadata": {
        "id": "r8pGpGG7HxSD"
      }
    },
    {
      "cell_type": "code",
      "source": [
        "def sorter(str2):\n",
        "  l=list(str2)\n",
        "  tmp=0\n",
        "  for j in range(len(str2)):\n",
        "    for i in range(len(str2)-j-1):\n",
        "      if (l[i]>l[i+1]):\n",
        "        tmp=l[i+1]\n",
        "        l[i+1]=l[i]\n",
        "        l[i]=tmp\n",
        "  str2=''.join(l)\n",
        "  return str2"
      ],
      "metadata": {
        "id": "-LoexqCZIrJ2"
      },
      "execution_count": 97,
      "outputs": []
    },
    {
      "cell_type": "code",
      "source": [
        "str11=\"raj shukla\""
      ],
      "metadata": {
        "id": "VidmZ7NoLVH-"
      },
      "execution_count": 106,
      "outputs": []
    },
    {
      "cell_type": "code",
      "source": [
        "sorter(str11)"
      ],
      "metadata": {
        "colab": {
          "base_uri": "https://localhost:8080/",
          "height": 36
        },
        "id": "Eg27818nOcnF",
        "outputId": "cd9495fa-cc03-4e36-e085-cd5b8c2f4b04"
      },
      "execution_count": 107,
      "outputs": [
        {
          "output_type": "execute_result",
          "data": {
            "text/plain": [
              "' aahjklrsu'"
            ],
            "application/vnd.google.colaboratory.intrinsic+json": {
              "type": "string"
            }
          },
          "metadata": {},
          "execution_count": 107
        }
      ]
    },
    {
      "cell_type": "markdown",
      "source": [
        "# **Ques10**"
      ],
      "metadata": {
        "id": "bjTNgp4sTGC0"
      }
    },
    {
      "cell_type": "code",
      "source": [
        "def swapxor(x, y):\n",
        "  x = x ^ y\n",
        "  y = x ^ y\n",
        "  x = x ^ y\n",
        "  return x, y"
      ],
      "metadata": {
        "id": "u4d6KfokTOnu"
      },
      "execution_count": 108,
      "outputs": []
    },
    {
      "cell_type": "code",
      "source": [
        "swapxor(10, 20)"
      ],
      "metadata": {
        "colab": {
          "base_uri": "https://localhost:8080/"
        },
        "id": "IKO5ZP-4VUr9",
        "outputId": "b2ac0f9b-86a4-4fc2-bd0b-33248865eb81"
      },
      "execution_count": 109,
      "outputs": [
        {
          "output_type": "execute_result",
          "data": {
            "text/plain": [
              "(20, 10)"
            ]
          },
          "metadata": {},
          "execution_count": 109
        }
      ]
    }
  ]
}