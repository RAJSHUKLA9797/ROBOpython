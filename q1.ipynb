{
  "nbformat": 4,
  "nbformat_minor": 0,
  "metadata": {
    "colab": {
      "name": "Untitled1.ipynb",
      "provenance": [],
      "authorship_tag": "ABX9TyMjs76eILw+cRPCT0JRYU8M",
      "include_colab_link": true
    },
    "kernelspec": {
      "name": "python3",
      "display_name": "Python 3"
    },
    "language_info": {
      "name": "python"
    }
  },
  "cells": [
    {
      "cell_type": "markdown",
      "metadata": {
        "id": "view-in-github",
        "colab_type": "text"
      },
      "source": [
        "<a href=\"https://colab.research.google.com/github/RAJSHUKLA9797/ROBOpython/blob/main/q1.ipynb\" target=\"_parent\"><img src=\"https://colab.research.google.com/assets/colab-badge.svg\" alt=\"Open In Colab\"/></a>"
      ]
    },
    {
      "cell_type": "code",
      "execution_count": 39,
      "metadata": {
        "id": "5DBXhVgD0As3"
      },
      "outputs": [],
      "source": [
        "def fun(list1,string1):\n",
        "  if(string1 == \"asc\"):\n",
        "    return list1.sort()\n",
        "  elif(string1 == \"desc\"):\n",
        "    return list1.sort(reverse = True)  \n"
      ]
    },
    {
      "cell_type": "code",
      "source": [
        "listt=[1, 2, 3,5,3,2,33,23,12,45]"
      ],
      "metadata": {
        "id": "CTfIF4fb1bzp"
      },
      "execution_count": 38,
      "outputs": []
    },
    {
      "cell_type": "code",
      "source": [
        "fun(listt, 'desc')"
      ],
      "metadata": {
        "id": "DqTS9Ao-2r04"
      },
      "execution_count": 40,
      "outputs": []
    },
    {
      "cell_type": "code",
      "source": [
        "listt"
      ],
      "metadata": {
        "colab": {
          "base_uri": "https://localhost:8080/"
        },
        "id": "BSzaIj0S4qVK",
        "outputId": "e26f0c13-4f84-43e5-8596-2db43809ed1c"
      },
      "execution_count": 41,
      "outputs": [
        {
          "output_type": "execute_result",
          "data": {
            "text/plain": [
              "[45, 33, 23, 12, 5, 3, 3, 2, 2, 1]"
            ]
          },
          "metadata": {},
          "execution_count": 41
        }
      ]
    }
  ]
}